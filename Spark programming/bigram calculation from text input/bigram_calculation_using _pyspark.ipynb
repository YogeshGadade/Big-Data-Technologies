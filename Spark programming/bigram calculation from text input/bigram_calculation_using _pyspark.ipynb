{
  "nbformat": 4,
  "nbformat_minor": 0,
  "metadata": {
    "colab": {
      "name": "Untitled3.ipynb",
      "private_outputs": true,
      "provenance": [],
      "collapsed_sections": []
    },
    "kernelspec": {
      "name": "python3",
      "display_name": "Python 3"
    },
    "language_info": {
      "name": "python"
    }
  },
  "cells": [
    {
      "cell_type": "code",
      "execution_count": null,
      "metadata": {
        "id": "hnafpp82nqNR"
      },
      "outputs": [],
      "source": [
        "!pip install pyspark"
      ]
    },
    {
      "cell_type": "code",
      "source": [
        "#coding on Google Collab\n",
        "import pyspark\n",
        "from pyspark.sql import SparkSession\n",
        "\n",
        "spark = SparkSession.builder.appName(\"DataFrame\").getOrCreate()\n",
        "\n",
        "# Creating spark context\n",
        "sc  = spark.sparkContext\n",
        "# Input file path on Google collab\n",
        "txtInput=\"/content/sample_data/Class 6 - Text File for Letter Pairs.txt\"\n",
        "\n",
        "# Creating sentences from text file \n",
        "sentences = sc.textFile(txtInput) \\\n",
        "    .glom() \\\n",
        "    .map(lambda x: \"\".join(x)) \\\n",
        "    .flatMap(lambda x: x.split(\".\"))\n",
        "\n",
        "sentences.collect()"
      ],
      "metadata": {
        "id": "fkCutFIBntvb"
      },
      "execution_count": null,
      "outputs": []
    },
    {
      "cell_type": "code",
      "source": [
        "# Calculating bigrams without removing special characters\n",
        "freq_bigrams = sentences.flatMap(lambda x: x.split()) \\\n",
        "    .flatMap(lambda x: [((x[i],x[i+1]),1) for i in range (0,len(x)-1)])\\\n",
        "    .reduceByKey(lambda x,y: x+y) \\\n",
        "    .map(lambda x: (x[1],x[0])) \\\n",
        "    .sortByKey(ascending=True)"
      ],
      "metadata": {
        "id": "dLTmuoObn-8b"
      },
      "execution_count": null,
      "outputs": []
    },
    {
      "cell_type": "code",
      "source": [
        "print(\"Bottom 5 Least frequent: \\n\")\n",
        "freq_bigrams.sortByKey(True).take(5)"
      ],
      "metadata": {
        "id": "wnv2zbluoHLa"
      },
      "execution_count": null,
      "outputs": []
    },
    {
      "cell_type": "code",
      "source": [
        "print(\"Top 5 Most frequent:\")\n",
        "freq_bigrams.sortByKey(False).take(5)"
      ],
      "metadata": {
        "id": "oVV8w5UZoHOM"
      },
      "execution_count": null,
      "outputs": []
    },
    {
      "cell_type": "code",
      "source": [
        ""
      ],
      "metadata": {
        "id": "lVLkDBqzoJSM"
      },
      "execution_count": null,
      "outputs": []
    },
    {
      "cell_type": "code",
      "source": [
        "special_chars = \",!#$%^&()€[]''`~”—,.?\" #removing special characters \n",
        "bigrams = sentences.map(lambda x: x.replace(special_chars, '').lower()) \\\n",
        "    .map(lambda x: x.lower().replace(',', ''))\\\n",
        "    .map(lambda x: x.lower().replace('”', ''))\\\n",
        "    .map(lambda x: x.lower().replace('’', ''))\\\n",
        "    .flatMap(lambda x: x.split()) \\\n",
        "    .flatMap(lambda x: [((x[i],x[i+1]),1) for i in range (0,len(x)-1)])\n",
        "\n",
        "freq_bigrams = bigrams.reduceByKey(lambda x,y: x+y) \\\n",
        "    .map(lambda x: (x[1],x[0])) \\\n",
        "    .sortByKey(ascending=True)"
      ],
      "metadata": {
        "id": "W2aC7evCn2bv"
      },
      "execution_count": null,
      "outputs": []
    },
    {
      "cell_type": "code",
      "source": [
        "print(\"Bottom 5 Least frequent: \\n\")\n",
        "freq_bigrams.sortByKey(True).take(5)"
      ],
      "metadata": {
        "id": "Gt7fAqO_oLCV"
      },
      "execution_count": null,
      "outputs": []
    },
    {
      "cell_type": "code",
      "source": [
        "print(\"Top 5 Most frequent:\")\n",
        "freq_bigrams.sortByKey(False).take(5)"
      ],
      "metadata": {
        "id": "U1bKOM2ZoMEj"
      },
      "execution_count": null,
      "outputs": []
    }
  ]
}