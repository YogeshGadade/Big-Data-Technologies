{
  "nbformat": 4,
  "nbformat_minor": 0,
  "metadata": {
    "colab": {
      "name": "bigram_calculation_using _pyspark.ipynb",
      "provenance": [],
      "collapsed_sections": []
    },
    "kernelspec": {
      "name": "python3",
      "display_name": "Python 3"
    },
    "language_info": {
      "name": "python"
    }
  },
  "cells": [
    {
      "cell_type": "code",
      "execution_count": 4,
      "metadata": {
        "colab": {
          "base_uri": "https://localhost:8080/"
        },
        "id": "hnafpp82nqNR",
        "outputId": "7f593193-31d0-4793-cdab-1b6a45846cd9"
      },
      "outputs": [
        {
          "output_type": "stream",
          "name": "stdout",
          "text": [
            "Collecting pyspark\n",
            "  Downloading pyspark-3.2.1.tar.gz (281.4 MB)\n",
            "\u001b[K     |████████████████████████████████| 281.4 MB 34 kB/s \n",
            "\u001b[?25hCollecting py4j==0.10.9.3\n",
            "  Downloading py4j-0.10.9.3-py2.py3-none-any.whl (198 kB)\n",
            "\u001b[K     |████████████████████████████████| 198 kB 51.2 MB/s \n",
            "\u001b[?25hBuilding wheels for collected packages: pyspark\n",
            "  Building wheel for pyspark (setup.py) ... \u001b[?25l\u001b[?25hdone\n",
            "  Created wheel for pyspark: filename=pyspark-3.2.1-py2.py3-none-any.whl size=281853642 sha256=2d2d0b1a9cae6c768126c3308f9772643413cc91e6a8fb6ecd329de76ff85ec0\n",
            "  Stored in directory: /root/.cache/pip/wheels/9f/f5/07/7cd8017084dce4e93e84e92efd1e1d5334db05f2e83bcef74f\n",
            "Successfully built pyspark\n",
            "Installing collected packages: py4j, pyspark\n",
            "Successfully installed py4j-0.10.9.3 pyspark-3.2.1\n"
          ]
        }
      ],
      "source": [
        "!pip install pyspark"
      ]
    },
    {
      "cell_type": "code",
      "source": [
        "#coding on Google Collab\n",
        "import pyspark\n",
        "from pyspark.sql import SparkSession\n",
        "\n",
        "spark = SparkSession.builder.appName(\"DataFrame\").getOrCreate()\n",
        "\n",
        "# Creating spark context\n",
        "sc  = spark.sparkContext\n",
        "# Input file path on Google collab\n",
        "txtInput=\"/content/sample_data/Class 6 - Text File for Letter Pairs.txt\"\n",
        "\n",
        "# Creating sentences from text file \n",
        "sentences = sc.textFile(txtInput) \\\n",
        "    .glom() \\\n",
        "    .map(lambda x: \"\".join(x)) \\\n",
        "    .flatMap(lambda x: x.split(\".\"))\n",
        "\n",
        "sentences.collect()"
      ],
      "metadata": {
        "colab": {
          "base_uri": "https://localhost:8080/"
        },
        "id": "fkCutFIBntvb",
        "outputId": "74378db4-c140-4443-d2ae-fae4635dd0fc"
      },
      "execution_count": 5,
      "outputs": [
        {
          "output_type": "execute_result",
          "data": {
            "text/plain": [
              "['Data have become a torrent flowing into every area of the global economy',\n",
              " '1 Companies churn out a burgeoning volume of transactional data, capturing trillions of bytes of information about their customers, suppliers, and operations',\n",
              " ' millions of networked sensors are being embedded in the physical world in devices such as mobile phones, smart energy meters, automobiles, and industrial machines that sense, create, and communicate data in the age of the Internet of Things',\n",
              " '2 Indeed, as companies and organizations go about their business and interact with individuals, they are generating a tremendous amount of digital “exhaust data,” i',\n",
              " 'e',\n",
              " ', data thatare created as a by-product of other activities',\n",
              " ' Social media sites, smartphones, and other consumer devices including PCs and laptops have allowed billions of individuals around the world to contribute to the amount of big data available',\n",
              " ' And the growing volume of multimedia content has played a major role in the exponentialgrowth in the amount of big data (see Box 1, “What do we mean by ‘big data’?”)',\n",
              " ' Each second of high-definition video, for example, generates more than 2,000 times as many bytes as required to store a single page of text',\n",
              " ' In a digitized world, consumers going about their day—communicating, browsing, buying, sharing, searching—create their own enormous trails of data',\n",
              " 'In itself, the sheer volume of data is a global phenomenon—but what does it mean? Many citizens around the world regard this collection of information with deep suspicion, seeing the data flood as nothing more than an intrusion of their privacy',\n",
              " ' But there is strong evidence that big data can play a significant economic role to the benefit not only of private commerce but also of national economies and their citizens',\n",
              " ' Our research finds that data can create significant value for the world economy, enhancing the productivity and competitiveness of companies and thepublic sector and creating substantial economic surplus for consumers',\n",
              " ' For instance, if US health care could use big data creatively and effectively to drive efficiency and quality, we estimate that the potential value from data in the sector could be more  than $300 billion in value every year, two-thirds of which would be in the form of reducing national health care expenditures by about 8 percent',\n",
              " ' In the private sector, we estimate, for example, that a retailer using big data to the full has the potential to increase its operating margin by more than 60 percent',\n",
              " ' In the developed economies of Europe, we estimate that government administration could save more than€100 billion ($149 billion) in operational efficiency improvements alone by using big data',\n",
              " ' This estimate does not include big data levers that could reduce fraud, errors, and tax gaps (i',\n",
              " 'e',\n",
              " ', the gap between potential and actual tax revenue)',\n",
              " 'Digital data is now everywhere—in every sector, in every economy, in every organization and user of digital technology',\n",
              " ' While this topic might once have concerned only a few data geeks, big data is now relevant for leaders across every sector, and consumers of products and services stand to benefit from its application',\n",
              " ' The ability to store, aggregate, and combine data and then use the results to perform deep analyses has become ever more accessible as trends such as Moore’s Lawin computing, its equivalent in digital storage, and cloud computing continue to lower costs and other technology barriers',\n",
              " '3 For less than $600, an individual can purchase a disk drive with the capacity to store all of the world’s music',\n",
              " '4 The means to extract insight from data are also markedly improving as software available to apply increasingly sophisticated techniques combines with growing computing horsepower',\n",
              " ' Further, the ability to generate, communicate, share, and access ',\n",
              " 'data has been revolutionized by the increasing number of people, devices, and sensors that are now connected by digital networks',\n",
              " ' In 2010, more than 4 billion people,or 60 percent of the world’s population, were using mobile phones, and about 12 percent of those people had smartphones, whose penetration is growing atmore than 20 percent a year',\n",
              " ' More than 30 million networked sensor nodes are now present in the transportation, automotive, industrial, utilities, and retail sectors',\n",
              " ' The number of these sensors is increasing at a rate of more than 30 percent a year',\n",
              " 'There are many ways that big data can be used to create value across sectors of the global economy',\n",
              " ' Indeed, our research suggests that we are on the cusp of a tremendous wave of innovation, productivity, and growth, as well as new modes ofcompetition and value capture—all driven by big data as consumers, companies, and economic sectors exploit its potential',\n",
              " ' But why should this be the case now? Haven’t data always been part of the impact of information and communication technology?Yes, but our research suggests that the scale and scope of changes that big data are bringing about are at an inflection point, set to expand greatly, as a series oftechnology trends accelerate and converge',\n",
              " ' We are already seeing visible changes in the economic landscape as a result of this convergence',\n",
              " 'Many pioneering companies are already using big data to create value, and others need to explore how they can do the same if they are to compete',\n",
              " ' Governments,too, have a significant opportunity to boost their efficiency and the value for moneythey offer citizens at a time when public finances are constrained—and are likely to remain so due to aging populations in many countries around the world',\n",
              " ' Our research suggests that the public sector can boost its productivity significantly through the effective use of big data',\n",
              " 'However, companies and other organizations and policy makers need to address considerable challenges if they are to capture the full potential of big data',\n",
              " ' A shortage of the analytical and managerial talent necessary to make the most of big data isa significant and pressing challenge and one that companies and policy makers can begin to address in the near term',\n",
              " ' The United States alone faces a shortage of140,000 to 190,000 people with deep analytical skills as well as 1',\n",
              " '5 million managers and analysts to analyze big data and make decisions based on their findings',\n",
              " ' The shortage of talent is just the beginning',\n",
              " ' Other challenges we explore in this report include the need to ensure that the right infrastructure is in place and that incentives and competition are in place to encourage continued innovation; that the economic benefits to users, organizations, and the economy are properly understood; and that safeguards are in place to address public concerns about big data',\n",
              " 'This report seeks to understand the state of digital data, how different domains can use large datasets to create value, the potential value across stakeholders, and the implications for the leaders of private sector companies and public sectororganizations, as well as for policy makers',\n",
              " ' We have supplemented our analysis of big data as a whole with a detailed examination of five domains (health care in the United States, the public sector in Europe, retail in the United States, and manufacturing and personal location data globally)',\n",
              " ' This research by no means represents the final word on big data; instead, we see it as a beginning',\n",
              " ' We fully anticipate that this is a story that will continue to evolve as technologies and techniques using big data develop and data, their uses, and their economic benefits grow (alongside associatedchallenges and risks)',\n",
              " ' For now, however, our research yields seven key insights:']"
            ]
          },
          "metadata": {},
          "execution_count": 5
        }
      ]
    },
    {
      "cell_type": "code",
      "source": [
        "# Calculating bigrams without removing special characters\n",
        "freq_bigrams = sentences.flatMap(lambda x: x.split()) \\\n",
        "    .flatMap(lambda x: [((x[i],x[i+1]),1) for i in range (0,len(x)-1)])\\\n",
        "    .reduceByKey(lambda x,y: x+y) \\\n",
        "    .map(lambda x: (x[1],x[0])) \\\n",
        "    .sortByKey(ascending=True)"
      ],
      "metadata": {
        "id": "dLTmuoObn-8b"
      },
      "execution_count": 8,
      "outputs": []
    },
    {
      "cell_type": "code",
      "source": [
        "print(\"Bottom 5 Least frequent: \\n\")\n",
        "freq_bigrams.sortByKey(True).take(5)"
      ],
      "metadata": {
        "colab": {
          "base_uri": "https://localhost:8080/"
        },
        "id": "wnv2zbluoHLa",
        "outputId": "25d186e3-cf90-4f2f-bdb0-3488e49d6a7f"
      },
      "execution_count": 9,
      "outputs": [
        {
          "output_type": "stream",
          "name": "stdout",
          "text": [
            "Bottom 5 Least frequent: \n",
            "\n"
          ]
        },
        {
          "output_type": "execute_result",
          "data": {
            "text/plain": [
              "[(1, ('D', 'a')),\n",
              " (1, (',', '”')),\n",
              " (1, ('C', 's')),\n",
              " (1, ('A', 'n')),\n",
              " (1, ('l', 'g'))]"
            ]
          },
          "metadata": {},
          "execution_count": 9
        }
      ]
    },
    {
      "cell_type": "code",
      "source": [
        "print(\"Top 5 Most frequent:\")\n",
        "freq_bigrams.sortByKey(False).take(5)"
      ],
      "metadata": {
        "colab": {
          "base_uri": "https://localhost:8080/"
        },
        "id": "oVV8w5UZoHOM",
        "outputId": "7a2cc77a-d75d-4b37-dfd1-2a292cced55b"
      },
      "execution_count": 10,
      "outputs": [
        {
          "output_type": "stream",
          "name": "stdout",
          "text": [
            "Top 5 Most frequent:\n"
          ]
        },
        {
          "output_type": "execute_result",
          "data": {
            "text/plain": [
              "[(136, ('t', 'h')),\n",
              " (126, ('a', 't')),\n",
              " (126, ('a', 'n')),\n",
              " (120, ('i', 'n')),\n",
              " (102, ('r', 'e'))]"
            ]
          },
          "metadata": {},
          "execution_count": 10
        }
      ]
    },
    {
      "cell_type": "code",
      "source": [
        ""
      ],
      "metadata": {
        "id": "lVLkDBqzoJSM"
      },
      "execution_count": null,
      "outputs": []
    },
    {
      "cell_type": "code",
      "source": [
        "special_chars = \",!#$%^&()€[]''`~”—,.?\" #removing special characters \n",
        "bigrams = sentences.map(lambda x: x.replace(special_chars, '').lower()) \\\n",
        "    .map(lambda x: x.lower().replace(',', ''))\\\n",
        "    .map(lambda x: x.lower().replace('”', ''))\\\n",
        "    .map(lambda x: x.lower().replace('’', ''))\\\n",
        "    .flatMap(lambda x: x.split()) \\\n",
        "    .flatMap(lambda x: [((x[i],x[i+1]),1) for i in range (0,len(x)-1)])\n",
        "\n",
        "freq_bigrams = bigrams.reduceByKey(lambda x,y: x+y) \\\n",
        "    .map(lambda x: (x[1],x[0])) \\\n",
        "    .sortByKey(ascending=True)"
      ],
      "metadata": {
        "id": "W2aC7evCn2bv"
      },
      "execution_count": 11,
      "outputs": []
    },
    {
      "cell_type": "code",
      "source": [
        "print(\"Bottom 5 Least frequent: \\n\")\n",
        "freq_bigrams.sortByKey(True).take(5)"
      ],
      "metadata": {
        "colab": {
          "base_uri": "https://localhost:8080/"
        },
        "id": "Gt7fAqO_oLCV",
        "outputId": "27084987-03cb-4b8d-beda-3b14ae4268c2"
      },
      "execution_count": 12,
      "outputs": [
        {
          "output_type": "stream",
          "name": "stdout",
          "text": [
            "Bottom 5 Least frequent: \n",
            "\n"
          ]
        },
        {
          "output_type": "execute_result",
          "data": {
            "text/plain": [
              "[(1, ('p', 'c')),\n",
              " (1, ('c', 's')),\n",
              " (1, ('l', 'g')),\n",
              " (1, ('o', 'x')),\n",
              " (1, ('w', 'n'))]"
            ]
          },
          "metadata": {},
          "execution_count": 12
        }
      ]
    },
    {
      "cell_type": "code",
      "source": [
        "print(\"Top 5 Most frequent:\")\n",
        "freq_bigrams.sortByKey(False).take(5)"
      ],
      "metadata": {
        "colab": {
          "base_uri": "https://localhost:8080/"
        },
        "id": "U1bKOM2ZoMEj",
        "outputId": "00e17ca6-b9e7-45a7-86e0-15e6bac03dc6"
      },
      "execution_count": 13,
      "outputs": [
        {
          "output_type": "stream",
          "name": "stdout",
          "text": [
            "Top 5 Most frequent:\n"
          ]
        },
        {
          "output_type": "execute_result",
          "data": {
            "text/plain": [
              "[(146, ('t', 'h')),\n",
              " (128, ('i', 'n')),\n",
              " (127, ('a', 'n')),\n",
              " (126, ('a', 't')),\n",
              " (102, ('r', 'e'))]"
            ]
          },
          "metadata": {},
          "execution_count": 13
        }
      ]
    }
  ]
}